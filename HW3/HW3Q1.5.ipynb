{
 "cells": [
  {
   "cell_type": "code",
   "execution_count": 2,
   "id": "119f0693-6f44-40ea-99cf-c035373c87cb",
   "metadata": {},
   "outputs": [
    {
     "name": "stdout",
     "output_type": "stream",
     "text": [
      "Mutant Population:\n",
      " [[0.75251209 0.74222941]\n",
      " [0.         0.74003366]\n",
      " [0.25192028 1.27947586]\n",
      " [0.20615686 0.45685935]\n",
      " [0.58242741 0.91612734]\n",
      " [0.39331951 2.        ]\n",
      " [0.68690388 0.66482436]\n",
      " [0.44581227 2.        ]\n",
      " [0.71174255 0.50995406]\n",
      " [0.32500247 1.28498869]\n",
      " [0.92700145 1.95295219]\n",
      " [0.89585527 1.37184715]\n",
      " [0.23314303 0.74925409]\n",
      " [0.41206791 0.75583447]\n",
      " [0.09148543 2.        ]\n",
      " [0.2233552  0.16094265]\n",
      " [0.59864032 0.        ]\n",
      " [0.00873447 0.79406745]\n",
      " [0.49356301 2.        ]\n",
      " [0.         1.71610362]]\n"
     ]
    }
   ],
   "source": [
    "import numpy as np\n",
    "\n",
    "# Recall slug model function\n",
    "def slug_model(pars):\n",
    "    t = np.array([5.0, 10.0, 20.0, 30.0, 40.0, 50.0])\n",
    "    d = 10\n",
    "    Q = 50\n",
    "    S, T = pars\n",
    "    h_pred = (Q / (4 * np.pi * T * t)) * np.exp((-d**2 * S) / (4 * T * t))\n",
    "    h_obs = np.array([0.55, 0.47, 0.30, 0.22, 0.17, 0.14])\n",
    "    res = h_pred - h_obs\n",
    "    SSR = np.dot(res, res)\n",
    "    return SSR\n",
    "\n",
    "# Mutation function used in Differential Evolution\n",
    "def mutate(population, F):\n",
    "    pop_size, dim = population.shape\n",
    "    mutant_population = np.zeros((pop_size, dim))\n",
    "    for i in range(pop_size):\n",
    "        indices = np.random.choice([x for x in range(pop_size) if x != i], 3, replace=False)\n",
    "        a, b, c = population[indices]\n",
    "        mutant = a + F * (b - c)\n",
    "        # Ensure the mutant is within bounds\n",
    "        mutant = np.clip(mutant, [b[0] for b in bounds], [b[1] for b in bounds])\n",
    "        mutant_population[i] = mutant\n",
    "    return mutant_population\n",
    "\n",
    "# Initialization of the population\n",
    "def initialize_population(pop_size, dim, bounds):\n",
    "    return np.random.rand(pop_size, dim) * (np.array([b[1] for b in bounds]) - np.array([b[0] for b in bounds])) + np.array([b[0] for b in bounds])\n",
    "\n",
    "# Define parameters\n",
    "pop_size = 20\n",
    "dim = 2\n",
    "bounds = [(0, 1), (0, 2)]  # bounds for storage (S) and transmissivity (T)\n",
    "F = 0.8  # Mutation factor\n",
    "\n",
    "# Initialize the population\n",
    "population = initialize_population(pop_size, dim, bounds)\n",
    "\n",
    "# Perform mutation\n",
    "mutant_population = mutate(population, F)\n",
    "\n",
    "# Output mutant population\n",
    "print(\"Mutant Population:\\n\", mutant_population)\n",
    "\n",
    "\n",
    "\n"
   ]
  },
  {
   "cell_type": "code",
   "execution_count": null,
   "id": "ab3f56bd-251d-46f7-a888-f872743894aa",
   "metadata": {},
   "outputs": [],
   "source": []
  }
 ],
 "metadata": {
  "kernelspec": {
   "display_name": "Python 3 (ipykernel)",
   "language": "python",
   "name": "python3"
  },
  "language_info": {
   "codemirror_mode": {
    "name": "ipython",
    "version": 3
   },
   "file_extension": ".py",
   "mimetype": "text/x-python",
   "name": "python",
   "nbconvert_exporter": "python",
   "pygments_lexer": "ipython3",
   "version": "3.10.2"
  }
 },
 "nbformat": 4,
 "nbformat_minor": 5
}
