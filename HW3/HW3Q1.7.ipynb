{
 "cells": [
  {
   "cell_type": "code",
   "execution_count": 9,
   "id": "0fffc1a9-e499-4141-b3e6-6b6886df3882",
   "metadata": {},
   "outputs": [
    {
     "name": "stdout",
     "output_type": "stream",
     "text": [
      "Optimized Slug Model Parameters: [0.01       1.11397411]\n",
      "Optimal SSR: 0.06920637141977033\n"
     ]
    }
   ],
   "source": [
    "import numpy as np\n",
    "\n",
    "def slug_model(pars):\n",
    "    t = np.array([5.0, 10.0, 20.0, 30.0, 40.0, 50.0])\n",
    "    d = 10\n",
    "    Q = 50\n",
    "    S, T = pars\n",
    "    h_pred = (Q / (4 * np.pi * T * t)) * np.exp((-d**2 * S) / (4 * T * t))\n",
    "    h_obs = np.array([0.55, 0.47, 0.30, 0.22, 0.17, 0.14])\n",
    "    res = h_pred - h_obs\n",
    "    SSR = np.dot(res, res)\n",
    "    return SSR\n",
    "\n",
    "def reflect(value, lower, upper):\n",
    "    return lower + abs(lower - value) if value < lower else upper - abs(value - upper)\n",
    "\n",
    "def ensure_feasible(offspring, bounds):\n",
    "    for i in range(offspring.shape[0]):\n",
    "        for j in range(offspring.shape[1]):\n",
    "            offspring[i, j] = reflect(offspring[i, j], bounds[j][0], bounds[j][1])\n",
    "    return offspring\n",
    "\n",
    "def mutate_and_crossover(parents, F, CR, bounds):\n",
    "    pop_size, dim = parents.shape\n",
    "    new_population = np.zeros_like(parents)\n",
    "    for i in range(pop_size):\n",
    "        idxs = [idx for idx in range(pop_size) if idx != i]\n",
    "        a, b, c = parents[np.random.choice(idxs, 3, replace=False)]\n",
    "        mutant = a + F * (b - c)\n",
    "        trial = np.array([mutant[j] if np.random.rand() < CR else parents[i, j] for j in range(dim)])\n",
    "        new_population[i] = trial\n",
    "    return ensure_feasible(new_population, bounds)\n",
    "\n",
    "def initialize_population(pop_size, dim, bounds):\n",
    "    return np.random.rand(pop_size, dim) * (np.array([b[1] for b in bounds]) - np.array([b[0] for b in bounds])) + np.array([b[0] for b in bounds])\n",
    "\n",
    "def differential_evolution(cost_func, bounds, pop_size, max_gen, F, CR):\n",
    "    dim = len(bounds)\n",
    "    population = initialize_population(pop_size, dim, bounds)\n",
    "    fitness = np.array([cost_func(ind) for ind in population])\n",
    "    best_idx = np.argmin(fitness)\n",
    "    best_value = fitness[best_idx]\n",
    "\n",
    "    for _ in range(max_gen):\n",
    "        new_population = mutate_and_crossover(population, F, CR, bounds)\n",
    "        for i in range(pop_size):\n",
    "            child_fitness = cost_func(new_population[i])\n",
    "            if child_fitness < fitness[i]:\n",
    "                population[i] = new_population[i]\n",
    "                fitness[i] = child_fitness\n",
    "                if child_fitness < best_value:\n",
    "                    best_value = child_fitness\n",
    "                    best_idx = i\n",
    "\n",
    "    return population[best_idx], best_value\n",
    "\n",
    "# DE parameters\n",
    "pop_size = 20\n",
    "F = 0.8  # Mutation factor\n",
    "CR = 0.9  # Crossover probability\n",
    "max_gen = 100  # Number of generations\n",
    "bounds = [(0.001, 0.01), (1, 100)]  # Bounds for S and T\n",
    "\n",
    "# Run the Differential Evolution algorithm\n",
    "optimal_params, optimal_cost = differential_evolution(slug_model, bounds, pop_size, max_gen, F, CR)\n",
    "print(f\"Optimized Slug Model Parameters: {optimal_params}\")\n",
    "print(f\"Optimal SSR: {optimal_cost}\")\n",
    "\n"
   ]
  },
  {
   "cell_type": "code",
   "execution_count": null,
   "id": "5d974aa4-7c74-4fb1-92c1-839417db7472",
   "metadata": {},
   "outputs": [],
   "source": []
  }
 ],
 "metadata": {
  "kernelspec": {
   "display_name": "Python 3 (ipykernel)",
   "language": "python",
   "name": "python3"
  },
  "language_info": {
   "codemirror_mode": {
    "name": "ipython",
    "version": 3
   },
   "file_extension": ".py",
   "mimetype": "text/x-python",
   "name": "python",
   "nbconvert_exporter": "python",
   "pygments_lexer": "ipython3",
   "version": "3.10.2"
  }
 },
 "nbformat": 4,
 "nbformat_minor": 5
}
