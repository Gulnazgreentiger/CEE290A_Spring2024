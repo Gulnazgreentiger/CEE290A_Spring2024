{
 "cells": [
  {
   "cell_type": "code",
   "execution_count": 2,
   "id": "1f2dfed8-8b99-465f-8e4c-88a4d9f5b5cb",
   "metadata": {},
   "outputs": [
    {
     "name": "stdout",
     "output_type": "stream",
     "text": [
      "t_multiplier: 2.7764451051977987\n",
      "SE_S: 0.0\n",
      "SE_T: 0.01675111936558271\n",
      "CI_S: (0.1, 0.1)\n",
      "CI_T: (0.45349143663084385, 0.5465085633691562)\n"
     ]
    }
   ],
   "source": [
    "## 4.7\n",
    "from scipy.stats import t\n",
    "import numpy as np\n",
    "\n",
    "# Given values\n",
    "df = 4  # degrees of freedom\n",
    "var_S = 0 * 1e-3  # variance of S_hat is given as 0\n",
    "var_T = 0.2806 * 1e-3  # variance of T_hat\n",
    "S_hat = 0.1  # optimal value for S\n",
    "T_hat = 0.5  # optimal value for T\n",
    "\n",
    "# Calculate the t multiplier for 95% confidence interval\n",
    "t_multiplier = t.ppf(1 - 0.025, df)\n",
    "\n",
    "# Calculate standard error # below values we got alculating Covariance C=sigma(J^TJ)^-1 etc \n",
    "SE_S = np.sqrt(var_S)  # Standard Error for S_hat, will be 0 since variance is 0\n",
    "SE_T = np.sqrt(var_T)  # Standard Error for T_hat\n",
    "\n",
    "# Calculate confidence intervals\n",
    "CI_S = (S_hat - t_multiplier * SE_S, S_hat + t_multiplier * SE_S)\n",
    "CI_T = (T_hat - t_multiplier * SE_T, T_hat + t_multiplier * SE_T)\n",
    "\n",
    "# Output the t multiplier, standard errors, and confidence intervals\n",
    "print(\"t_multiplier:\", t_multiplier)\n",
    "print(\"SE_S:\", SE_S)\n",
    "print(\"SE_T:\", SE_T)\n",
    "print(\"CI_S:\", CI_S)\n",
    "print(\"CI_T:\", CI_T)\n"
   ]
  },
  {
   "cell_type": "code",
   "execution_count": null,
   "id": "78f8cd65-f905-4b19-aee6-fa3050f3c139",
   "metadata": {},
   "outputs": [],
   "source": []
  }
 ],
 "metadata": {
  "kernelspec": {
   "display_name": "Python 3 (ipykernel)",
   "language": "python",
   "name": "python3"
  },
  "language_info": {
   "codemirror_mode": {
    "name": "ipython",
    "version": 3
   },
   "file_extension": ".py",
   "mimetype": "text/x-python",
   "name": "python",
   "nbconvert_exporter": "python",
   "pygments_lexer": "ipython3",
   "version": "3.10.2"
  }
 },
 "nbformat": 4,
 "nbformat_minor": 5
}
